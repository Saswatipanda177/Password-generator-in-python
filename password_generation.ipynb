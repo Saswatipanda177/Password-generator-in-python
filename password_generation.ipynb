{
  "nbformat": 4,
  "nbformat_minor": 0,
  "metadata": {
    "colab": {
      "provenance": []
    },
    "kernelspec": {
      "name": "python3",
      "display_name": "Python 3"
    },
    "language_info": {
      "name": "python"
    }
  },
  "cells": [
    {
      "cell_type": "code",
      "execution_count": 1,
      "metadata": {
        "colab": {
          "base_uri": "https://localhost:8080/"
        },
        "id": "sqI8saGrypse",
        "outputId": "e08ef535-d9b2-48e7-e045-bdb2e81ee252"
      },
      "outputs": [
        {
          "output_type": "stream",
          "name": "stdout",
          "text": [
            "Generated Password: rBPuIab%Ov\n"
          ]
        }
      ],
      "source": [
        "import random\n",
        "import string\n",
        "\n",
        "def generate_password(length: int = 10):\n",
        "    alphabet = string.ascii_letters + string.digits + string.punctuation\n",
        "    password = ''.join(random.choice(alphabet) for i in range (length))\n",
        "    return password\n",
        "\n",
        "password = generate_password()\n",
        "print(f\"Generated Password: {password}\")"
      ]
    }
  ]
}